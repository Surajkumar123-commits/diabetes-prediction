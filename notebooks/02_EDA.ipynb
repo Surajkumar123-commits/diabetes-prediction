{
 "cells": [
  {
   "cell_type": "code",
   "execution_count": null,
   "id": "43a384c0-606b-4264-9ab1-a05ba520d193",
   "metadata": {},
   "outputs": [],
   "source": []
  }
 ],
 "metadata": {
  "kernelspec": {
   "display_name": "",
   "name": ""
  },
  "language_info": {
   "name": ""
  }
 },
 "nbformat": 4,
 "nbformat_minor": 5
}
