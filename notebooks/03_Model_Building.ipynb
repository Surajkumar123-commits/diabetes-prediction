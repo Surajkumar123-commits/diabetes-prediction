{
 "cells": [
  {
   "cell_type": "code",
   "execution_count": null,
   "id": "b9d886ef-5764-4566-acd3-d14e5b92d389",
   "metadata": {},
   "outputs": [],
   "source": []
  }
 ],
 "metadata": {
  "kernelspec": {
   "display_name": "",
   "name": ""
  },
  "language_info": {
   "name": ""
  }
 },
 "nbformat": 4,
 "nbformat_minor": 5
}
